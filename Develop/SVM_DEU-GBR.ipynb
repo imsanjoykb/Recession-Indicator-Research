{
 "cells": [
  {
   "cell_type": "code",
   "execution_count": 1,
   "metadata": {
    "collapsed": true
   },
   "outputs": [],
   "source": [
    "import numpy as np\n",
    "import pandas as pd\n",
    "import seaborn as sns\n",
    "sns.set_style('whitegrid')\n",
    "import matplotlib.pyplot as plt\n",
    "%matplotlib inline"
   ]
  },
  {
   "cell_type": "code",
   "execution_count": 2,
   "metadata": {
    "collapsed": true
   },
   "outputs": [],
   "source": [
    "df = pd.read_excel(\"Full_Data.xlsx\", index_col=0)"
   ]
  },
  {
   "cell_type": "code",
   "execution_count": 3,
   "metadata": {},
   "outputs": [
    {
     "data": {
      "text/html": [
       "<div>\n",
       "<style>\n",
       "    .dataframe thead tr:only-child th {\n",
       "        text-align: right;\n",
       "    }\n",
       "\n",
       "    .dataframe thead th {\n",
       "        text-align: left;\n",
       "    }\n",
       "\n",
       "    .dataframe tbody tr th {\n",
       "        vertical-align: top;\n",
       "    }\n",
       "</style>\n",
       "<table border=\"1\" class=\"dataframe\">\n",
       "  <thead>\n",
       "    <tr style=\"text-align: right;\">\n",
       "      <th></th>\n",
       "      <th>G_DEU</th>\n",
       "      <th>G_ESP</th>\n",
       "      <th>G_FRA</th>\n",
       "      <th>G_GBR</th>\n",
       "      <th>G_IRL</th>\n",
       "      <th>G_ITA</th>\n",
       "      <th>G_NLD</th>\n",
       "      <th>G_WAV</th>\n",
       "      <th>S_DEU</th>\n",
       "      <th>S_ESP</th>\n",
       "      <th>S_FRA</th>\n",
       "      <th>S_GBR</th>\n",
       "      <th>S_IRL</th>\n",
       "      <th>S_ITA</th>\n",
       "      <th>S_NLD</th>\n",
       "      <th>S_WAV</th>\n",
       "      <th>Recession</th>\n",
       "    </tr>\n",
       "    <tr>\n",
       "      <th>DATE</th>\n",
       "      <th></th>\n",
       "      <th></th>\n",
       "      <th></th>\n",
       "      <th></th>\n",
       "      <th></th>\n",
       "      <th></th>\n",
       "      <th></th>\n",
       "      <th></th>\n",
       "      <th></th>\n",
       "      <th></th>\n",
       "      <th></th>\n",
       "      <th></th>\n",
       "      <th></th>\n",
       "      <th></th>\n",
       "      <th></th>\n",
       "      <th></th>\n",
       "      <th></th>\n",
       "    </tr>\n",
       "  </thead>\n",
       "  <tbody>\n",
       "    <tr>\n",
       "      <th>1970-01-31</th>\n",
       "      <td>-1.590000</td>\n",
       "      <td>1.869665</td>\n",
       "      <td>1.910000</td>\n",
       "      <td>-0.620000</td>\n",
       "      <td>1.700898</td>\n",
       "      <td>5.990000</td>\n",
       "      <td>-1.492127</td>\n",
       "      <td>0.819700</td>\n",
       "      <td>-1.69</td>\n",
       "      <td>0.340000</td>\n",
       "      <td>-1.61</td>\n",
       "      <td>2.830000</td>\n",
       "      <td>4.025000</td>\n",
       "      <td>-0.490000</td>\n",
       "      <td>4.330000</td>\n",
       "      <td>-0.135695</td>\n",
       "      <td>0</td>\n",
       "    </tr>\n",
       "    <tr>\n",
       "      <th>1970-02-28</th>\n",
       "      <td>0.266667</td>\n",
       "      <td>1.299398</td>\n",
       "      <td>1.693333</td>\n",
       "      <td>0.366667</td>\n",
       "      <td>0.937200</td>\n",
       "      <td>4.236662</td>\n",
       "      <td>-0.084976</td>\n",
       "      <td>1.286738</td>\n",
       "      <td>-1.71</td>\n",
       "      <td>0.315637</td>\n",
       "      <td>-1.02</td>\n",
       "      <td>2.617917</td>\n",
       "      <td>4.101583</td>\n",
       "      <td>-0.517211</td>\n",
       "      <td>4.361667</td>\n",
       "      <td>-0.058400</td>\n",
       "      <td>0</td>\n",
       "    </tr>\n",
       "    <tr>\n",
       "      <th>1970-03-31</th>\n",
       "      <td>2.123333</td>\n",
       "      <td>0.729131</td>\n",
       "      <td>1.476667</td>\n",
       "      <td>1.353333</td>\n",
       "      <td>0.173503</td>\n",
       "      <td>2.483325</td>\n",
       "      <td>1.322176</td>\n",
       "      <td>1.758106</td>\n",
       "      <td>-1.71</td>\n",
       "      <td>0.291274</td>\n",
       "      <td>-0.79</td>\n",
       "      <td>2.475833</td>\n",
       "      <td>4.178166</td>\n",
       "      <td>-0.544421</td>\n",
       "      <td>4.333333</td>\n",
       "      <td>-0.042632</td>\n",
       "      <td>0</td>\n",
       "    </tr>\n",
       "    <tr>\n",
       "      <th>1970-04-30</th>\n",
       "      <td>3.980000</td>\n",
       "      <td>0.158864</td>\n",
       "      <td>1.260000</td>\n",
       "      <td>2.340000</td>\n",
       "      <td>-0.590195</td>\n",
       "      <td>0.729987</td>\n",
       "      <td>2.729327</td>\n",
       "      <td>2.233664</td>\n",
       "      <td>-1.76</td>\n",
       "      <td>0.266911</td>\n",
       "      <td>-0.32</td>\n",
       "      <td>2.483750</td>\n",
       "      <td>4.254748</td>\n",
       "      <td>-0.571632</td>\n",
       "      <td>4.315000</td>\n",
       "      <td>0.037857</td>\n",
       "      <td>0</td>\n",
       "    </tr>\n",
       "    <tr>\n",
       "      <th>1970-05-31</th>\n",
       "      <td>3.276667</td>\n",
       "      <td>0.276270</td>\n",
       "      <td>1.300000</td>\n",
       "      <td>1.893333</td>\n",
       "      <td>-0.387093</td>\n",
       "      <td>1.155437</td>\n",
       "      <td>2.329581</td>\n",
       "      <td>1.994116</td>\n",
       "      <td>-1.53</td>\n",
       "      <td>0.242548</td>\n",
       "      <td>-0.40</td>\n",
       "      <td>2.731667</td>\n",
       "      <td>4.331331</td>\n",
       "      <td>-0.598843</td>\n",
       "      <td>4.356667</td>\n",
       "      <td>0.136605</td>\n",
       "      <td>0</td>\n",
       "    </tr>\n",
       "  </tbody>\n",
       "</table>\n",
       "</div>"
      ],
      "text/plain": [
       "               G_DEU     G_ESP     G_FRA     G_GBR     G_IRL     G_ITA  \\\n",
       "DATE                                                                     \n",
       "1970-01-31 -1.590000  1.869665  1.910000 -0.620000  1.700898  5.990000   \n",
       "1970-02-28  0.266667  1.299398  1.693333  0.366667  0.937200  4.236662   \n",
       "1970-03-31  2.123333  0.729131  1.476667  1.353333  0.173503  2.483325   \n",
       "1970-04-30  3.980000  0.158864  1.260000  2.340000 -0.590195  0.729987   \n",
       "1970-05-31  3.276667  0.276270  1.300000  1.893333 -0.387093  1.155437   \n",
       "\n",
       "               G_NLD     G_WAV  S_DEU     S_ESP  S_FRA     S_GBR     S_IRL  \\\n",
       "DATE                                                                         \n",
       "1970-01-31 -1.492127  0.819700  -1.69  0.340000  -1.61  2.830000  4.025000   \n",
       "1970-02-28 -0.084976  1.286738  -1.71  0.315637  -1.02  2.617917  4.101583   \n",
       "1970-03-31  1.322176  1.758106  -1.71  0.291274  -0.79  2.475833  4.178166   \n",
       "1970-04-30  2.729327  2.233664  -1.76  0.266911  -0.32  2.483750  4.254748   \n",
       "1970-05-31  2.329581  1.994116  -1.53  0.242548  -0.40  2.731667  4.331331   \n",
       "\n",
       "               S_ITA     S_NLD     S_WAV  Recession  \n",
       "DATE                                                 \n",
       "1970-01-31 -0.490000  4.330000 -0.135695          0  \n",
       "1970-02-28 -0.517211  4.361667 -0.058400          0  \n",
       "1970-03-31 -0.544421  4.333333 -0.042632          0  \n",
       "1970-04-30 -0.571632  4.315000  0.037857          0  \n",
       "1970-05-31 -0.598843  4.356667  0.136605          0  "
      ]
     },
     "execution_count": 3,
     "metadata": {},
     "output_type": "execute_result"
    }
   ],
   "source": [
    "df.head()"
   ]
  },
  {
   "cell_type": "code",
   "execution_count": 4,
   "metadata": {
    "collapsed": true
   },
   "outputs": [],
   "source": [
    "from sklearn.model_selection import train_test_split"
   ]
  },
  {
   "cell_type": "code",
   "execution_count": 5,
   "metadata": {
    "collapsed": true
   },
   "outputs": [],
   "source": [
    "X = df[[\"G_DEU\", \"S_DEU\",\"G_GBR\", \"S_GBR\"]]\n",
    "y = df[\"Recession\"]"
   ]
  },
  {
   "cell_type": "code",
   "execution_count": 6,
   "metadata": {
    "collapsed": true
   },
   "outputs": [],
   "source": [
    "X_train, X_test, y_train, y_test = train_test_split(\n",
    "    X, y, test_size=0.242, random_state=101, shuffle = False)"
   ]
  },
  {
   "cell_type": "code",
   "execution_count": 7,
   "metadata": {
    "collapsed": true
   },
   "outputs": [],
   "source": [
    "from sklearn.svm import SVC \n",
    "model = SVC()"
   ]
  },
  {
   "cell_type": "code",
   "execution_count": 8,
   "metadata": {},
   "outputs": [
    {
     "data": {
      "text/plain": [
       "SVC(C=1.0, cache_size=200, class_weight=None, coef0=0.0,\n",
       "  decision_function_shape='ovr', degree=3, gamma='auto', kernel='rbf',\n",
       "  max_iter=-1, probability=False, random_state=None, shrinking=True,\n",
       "  tol=0.001, verbose=False)"
      ]
     },
     "execution_count": 8,
     "metadata": {},
     "output_type": "execute_result"
    }
   ],
   "source": [
    "model.fit(X_train, y_train)\n",
    "#C coontrolls the cause of misclassification on the training data\n",
    "#large C gives you: low bias and high variance, vice versa \n",
    "#small gamma leads to a low bias high variance "
   ]
  },
  {
   "cell_type": "code",
   "execution_count": 9,
   "metadata": {
    "collapsed": true
   },
   "outputs": [],
   "source": [
    "predict = model.predict(X_test)"
   ]
  },
  {
   "cell_type": "code",
   "execution_count": 10,
   "metadata": {
    "collapsed": true
   },
   "outputs": [],
   "source": [
    "from sklearn.metrics import classification_report, confusion_matrix"
   ]
  },
  {
   "cell_type": "code",
   "execution_count": 11,
   "metadata": {},
   "outputs": [
    {
     "name": "stdout",
     "output_type": "stream",
     "text": [
      "[[50 51]\n",
      " [ 9 29]]\n",
      "\n",
      "\n",
      "             precision    recall  f1-score   support\n",
      "\n",
      "          0       0.85      0.50      0.62       101\n",
      "          1       0.36      0.76      0.49        38\n",
      "\n",
      "avg / total       0.71      0.57      0.59       139\n",
      "\n"
     ]
    }
   ],
   "source": [
    "print(confusion_matrix(y_test, predict))\n",
    "print(\"\\n\")\n",
    "print(classification_report(y_test, predict))"
   ]
  },
  {
   "cell_type": "code",
   "execution_count": 12,
   "metadata": {},
   "outputs": [
    {
     "data": {
      "text/plain": [
       "<matplotlib.axes._subplots.AxesSubplot at 0x22019dc70b8>"
      ]
     },
     "execution_count": 12,
     "metadata": {},
     "output_type": "execute_result"
    },
    {
     "data": {
      "image/png": "[encoded data removed]",
      "text/plain": [
       "<matplotlib.figure.Figure at 0x22019d54828>"
      ]
     },
     "metadata": {},
     "output_type": "display_data"
    }
   ],
   "source": [
    "pd_predict = pd.DataFrame(predict,index=X_test.index)\n",
    "pd_predict.plot()"
   ]
  },
  {
   "cell_type": "code",
   "execution_count": 13,
   "metadata": {},
   "outputs": [
    {
     "name": "stderr",
     "output_type": "stream",
     "text": [
      "C:\\Users\\anton\\Anaconda3\\lib\\site-packages\\sklearn\\cross_validation.py:41: DeprecationWarning: This module was deprecated in version 0.18 in favor of the model_selection module into which all the refactored classes and functions are moved. Also note that the interface of the new CV iterators are different from that of this module. This module will be removed in 0.20.\n",
      "  \"This module will be removed in 0.20.\", DeprecationWarning)\n",
      "C:\\Users\\anton\\Anaconda3\\lib\\site-packages\\sklearn\\grid_search.py:42: DeprecationWarning: This module was deprecated in version 0.18 in favor of the model_selection module into which all the refactored classes and functions are moved. This module will be removed in 0.20.\n",
      "  DeprecationWarning)\n"
     ]
    }
   ],
   "source": [
    "#Searching the best variable with a grid search (best combinatinos)\n",
    "from sklearn.grid_search import GridSearchCV"
   ]
  },
  {
   "cell_type": "code",
   "execution_count": 15,
   "metadata": {
    "collapsed": true
   },
   "outputs": [],
   "source": [
    "param_grid = {\"C\":[0.1,0.01,0.2,0.3,0.4,0.5,0.6,0.7,1,2,4,5,6,7,8,9,10,30,40,45,50,100], \"gamma\":[1,0.1,0.01,0.001,0.0001]} \n",
    "#the keys/actual parameters which I'll use for the model "
   ]
  },
  {
   "cell_type": "code",
   "execution_count": 16,
   "metadata": {
    "collapsed": true
   },
   "outputs": [],
   "source": [
    "grid = GridSearchCV(SVC(), param_grid, verbose=1)"
   ]
  },
  {
   "cell_type": "code",
   "execution_count": 17,
   "metadata": {},
   "outputs": [
    {
     "name": "stdout",
     "output_type": "stream",
     "text": [
      "Fitting 3 folds for each of 110 candidates, totalling 330 fits\n"
     ]
    },
    {
     "name": "stderr",
     "output_type": "stream",
     "text": [
      "[Parallel(n_jobs=1)]: Done 330 out of 330 | elapsed:    2.9s finished\n"
     ]
    },
    {
     "data": {
      "text/plain": [
       "GridSearchCV(cv=None, error_score='raise',\n",
       "       estimator=SVC(C=1.0, cache_size=200, class_weight=None, coef0=0.0,\n",
       "  decision_function_shape='ovr', degree=3, gamma='auto', kernel='rbf',\n",
       "  max_iter=-1, probability=False, random_state=None, shrinking=True,\n",
       "  tol=0.001, verbose=False),\n",
       "       fit_params={}, iid=True, n_jobs=1,\n",
       "       param_grid={'C': [0.1, 0.01, 0.2, 0.3, 0.4, 0.5, 0.6, 0.7, 1, 2, 4, 5, 6, 7, 8, 9, 10, 30, 40, 45, 50, 100], 'gamma': [1, 0.1, 0.01, 0.001, 0.0001]},\n",
       "       pre_dispatch='2*n_jobs', refit=True, scoring=None, verbose=1)"
      ]
     },
     "execution_count": 17,
     "metadata": {},
     "output_type": "execute_result"
    }
   ],
   "source": [
    "grid.fit(X_train, y_train)\n",
    "#verbose is the text output"
   ]
  },
  {
   "cell_type": "code",
   "execution_count": 18,
   "metadata": {},
   "outputs": [
    {
     "data": {
      "text/plain": [
       "{'C': 100, 'gamma': 0.0001}"
      ]
     },
     "execution_count": 18,
     "metadata": {},
     "output_type": "execute_result"
    }
   ],
   "source": [
    "grid.best_params_"
   ]
  },
  {
   "cell_type": "code",
   "execution_count": 19,
   "metadata": {
    "collapsed": true
   },
   "outputs": [],
   "source": [
    "grid_predictions = grid.predict(X_test)"
   ]
  },
  {
   "cell_type": "code",
   "execution_count": 20,
   "metadata": {},
   "outputs": [
    {
     "name": "stdout",
     "output_type": "stream",
     "text": [
      "[[71 30]\n",
      " [ 6 32]]\n",
      "\n",
      "\n",
      "             precision    recall  f1-score   support\n",
      "\n",
      "          0       0.92      0.70      0.80       101\n",
      "          1       0.52      0.84      0.64        38\n",
      "\n",
      "avg / total       0.81      0.74      0.75       139\n",
      "\n"
     ]
    }
   ],
   "source": [
    "print(confusion_matrix(y_test, grid_predictions))\n",
    "print(\"\\n\")\n",
    "print(classification_report(y_test, grid_predictions))"
   ]
  },
  {
   "cell_type": "code",
   "execution_count": 21,
   "metadata": {},
   "outputs": [
    {
     "data": {
      "text/plain": [
       "<matplotlib.axes._subplots.AxesSubplot at 0x2201a33f2e8>"
      ]
     },
     "execution_count": 21,
     "metadata": {},
     "output_type": "execute_result"
    },
    {
     "data": {
      "image/png": "[encoded data removed]",
      "text/plain": [
       "<matplotlib.figure.Figure at 0x2201a351f98>"
      ]
     },
     "metadata": {},
     "output_type": "display_data"
    }
   ],
   "source": [
    "pd_grid = pd.DataFrame(grid_predictions,index=X_test.index)\n",
    "pd_grid.plot()"
   ]
  },
  {
   "cell_type": "code",
   "execution_count": 23,
   "metadata": {
    "collapsed": true
   },
   "outputs": [],
   "source": [
    "pd_grid.to_excel(\"SVM_DEU_GBR.xlsx\")"
   ]
  }
 ],
 "metadata": {
  "kernelspec": {
   "display_name": "Python 3",
   "language": "python",
   "name": "python3"
  },
  "language_info": {
   "codemirror_mode": {
    "name": "ipython",
    "version": 3
   },
   "file_extension": ".py",
   "mimetype": "text/x-python",
   "name": "python",
   "nbconvert_exporter": "python",
   "pygments_lexer": "ipython3",
   "version": "3.6.3"
  }
 },
 "nbformat": 4,
 "nbformat_minor": 2
}
