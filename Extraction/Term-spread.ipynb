{
 "cells": [
  {
   "cell_type": "code",
   "execution_count": 1,
   "metadata": {
    "collapsed": true
   },
   "outputs": [],
   "source": [
    "import numpy as np\n",
    "import pandas as pd\n",
    "import seaborn as sns\n",
    "sns.set_style('whitegrid')\n",
    "import matplotlib.pyplot as plt\n",
    "%matplotlib inline"
   ]
  },
  {
   "cell_type": "code",
   "execution_count": 4,
   "metadata": {
    "collapsed": true
   },
   "outputs": [],
   "source": [
    "short = pd.read_excel(\"Yields_Interpolated.xlsx\", sheetname=\"3M\", index_col=0)\n",
    "long = pd.read_excel(\"Yields_Interpolated.xlsx\", sheetname=\"10Y\", index_col=0)\n",
    "Country = (\"DEU\", \"ESP\", \"FRA\", \"GBR\", \"IRL\", \"ITA\", \"NLD\", \"WA\")\n",
    "index = short.index"
   ]
  },
  {
   "cell_type": "code",
   "execution_count": 5,
   "metadata": {},
   "outputs": [],
   "source": [
    "spread = pd.DataFrame(long.values - short.values, index=index, columns=Country)"
   ]
  },
  {
   "cell_type": "code",
   "execution_count": 6,
   "metadata": {},
   "outputs": [
    {
     "data": {
      "text/html": [
       "<div>\n",
       "<style>\n",
       "    .dataframe thead tr:only-child th {\n",
       "        text-align: right;\n",
       "    }\n",
       "\n",
       "    .dataframe thead th {\n",
       "        text-align: left;\n",
       "    }\n",
       "\n",
       "    .dataframe tbody tr th {\n",
       "        vertical-align: top;\n",
       "    }\n",
       "</style>\n",
       "<table border=\"1\" class=\"dataframe\">\n",
       "  <thead>\n",
       "    <tr style=\"text-align: right;\">\n",
       "      <th></th>\n",
       "      <th>DEU</th>\n",
       "      <th>ESP</th>\n",
       "      <th>FRA</th>\n",
       "      <th>GBR</th>\n",
       "      <th>IRL</th>\n",
       "      <th>ITA</th>\n",
       "      <th>NLD</th>\n",
       "      <th>WA</th>\n",
       "    </tr>\n",
       "  </thead>\n",
       "  <tbody>\n",
       "    <tr>\n",
       "      <th>1970-01-01</th>\n",
       "      <td>-1.69</td>\n",
       "      <td>0.340000</td>\n",
       "      <td>-1.61</td>\n",
       "      <td>2.830000</td>\n",
       "      <td>4.025000</td>\n",
       "      <td>-0.490000</td>\n",
       "      <td>4.330000</td>\n",
       "      <td>-0.135695</td>\n",
       "    </tr>\n",
       "    <tr>\n",
       "      <th>1970-02-01</th>\n",
       "      <td>-1.71</td>\n",
       "      <td>0.315637</td>\n",
       "      <td>-1.02</td>\n",
       "      <td>2.617917</td>\n",
       "      <td>4.101583</td>\n",
       "      <td>-0.517211</td>\n",
       "      <td>4.361667</td>\n",
       "      <td>-0.058400</td>\n",
       "    </tr>\n",
       "    <tr>\n",
       "      <th>1970-03-01</th>\n",
       "      <td>-1.71</td>\n",
       "      <td>0.291274</td>\n",
       "      <td>-0.79</td>\n",
       "      <td>2.475833</td>\n",
       "      <td>4.178166</td>\n",
       "      <td>-0.544421</td>\n",
       "      <td>4.333333</td>\n",
       "      <td>-0.042632</td>\n",
       "    </tr>\n",
       "    <tr>\n",
       "      <th>1970-04-01</th>\n",
       "      <td>-1.76</td>\n",
       "      <td>0.266911</td>\n",
       "      <td>-0.32</td>\n",
       "      <td>2.483750</td>\n",
       "      <td>4.254748</td>\n",
       "      <td>-0.571632</td>\n",
       "      <td>4.315000</td>\n",
       "      <td>0.037857</td>\n",
       "    </tr>\n",
       "    <tr>\n",
       "      <th>1970-05-01</th>\n",
       "      <td>-1.53</td>\n",
       "      <td>0.242548</td>\n",
       "      <td>-0.40</td>\n",
       "      <td>2.731667</td>\n",
       "      <td>4.331331</td>\n",
       "      <td>-0.598843</td>\n",
       "      <td>4.356667</td>\n",
       "      <td>0.136605</td>\n",
       "    </tr>\n",
       "  </tbody>\n",
       "</table>\n",
       "</div>"
      ],
      "text/plain": [
       "             DEU       ESP   FRA       GBR       IRL       ITA       NLD  \\\n",
       "1970-01-01 -1.69  0.340000 -1.61  2.830000  4.025000 -0.490000  4.330000   \n",
       "1970-02-01 -1.71  0.315637 -1.02  2.617917  4.101583 -0.517211  4.361667   \n",
       "1970-03-01 -1.71  0.291274 -0.79  2.475833  4.178166 -0.544421  4.333333   \n",
       "1970-04-01 -1.76  0.266911 -0.32  2.483750  4.254748 -0.571632  4.315000   \n",
       "1970-05-01 -1.53  0.242548 -0.40  2.731667  4.331331 -0.598843  4.356667   \n",
       "\n",
       "                  WA  \n",
       "1970-01-01 -0.135695  \n",
       "1970-02-01 -0.058400  \n",
       "1970-03-01 -0.042632  \n",
       "1970-04-01  0.037857  \n",
       "1970-05-01  0.136605  "
      ]
     },
     "execution_count": 6,
     "metadata": {},
     "output_type": "execute_result"
    }
   ],
   "source": [
    "spread.head()"
   ]
  },
  {
   "cell_type": "code",
   "execution_count": 7,
   "metadata": {},
   "outputs": [
    {
     "data": {
      "text/plain": [
       "<matplotlib.axes._subplots.AxesSubplot at 0x1f861618780>"
      ]
     },
     "execution_count": 7,
     "metadata": {},
     "output_type": "execute_result"
    },
    {
     "data": {
      "image/png": "[encoded data removed]",
      "text/plain": [
       "<matplotlib.figure.Figure at 0x1f8612e7f98>"
      ]
     },
     "metadata": {},
     "output_type": "display_data"
    }
   ],
   "source": [
    "spread.plot()"
   ]
  },
  {
   "cell_type": "code",
   "execution_count": 8,
   "metadata": {},
   "outputs": [
    {
     "data": {
      "text/html": [
       "<div>\n",
       "<style>\n",
       "    .dataframe thead tr:only-child th {\n",
       "        text-align: right;\n",
       "    }\n",
       "\n",
       "    .dataframe thead th {\n",
       "        text-align: left;\n",
       "    }\n",
       "\n",
       "    .dataframe tbody tr th {\n",
       "        vertical-align: top;\n",
       "    }\n",
       "</style>\n",
       "<table border=\"1\" class=\"dataframe\">\n",
       "  <thead>\n",
       "    <tr style=\"text-align: right;\">\n",
       "      <th></th>\n",
       "      <th>DEU</th>\n",
       "      <th>ESP</th>\n",
       "      <th>FRA</th>\n",
       "      <th>GBR</th>\n",
       "      <th>IRL</th>\n",
       "      <th>ITA</th>\n",
       "      <th>NLD</th>\n",
       "      <th>WA</th>\n",
       "    </tr>\n",
       "  </thead>\n",
       "  <tbody>\n",
       "    <tr>\n",
       "      <th>count</th>\n",
       "      <td>571.000000</td>\n",
       "      <td>571.000000</td>\n",
       "      <td>571.000000</td>\n",
       "      <td>571.000000</td>\n",
       "      <td>571.000000</td>\n",
       "      <td>571.000000</td>\n",
       "      <td>571.000000</td>\n",
       "      <td>571.000000</td>\n",
       "    </tr>\n",
       "    <tr>\n",
       "      <th>mean</th>\n",
       "      <td>0.993152</td>\n",
       "      <td>0.470499</td>\n",
       "      <td>1.104098</td>\n",
       "      <td>1.068564</td>\n",
       "      <td>2.287395</td>\n",
       "      <td>-0.379483</td>\n",
       "      <td>1.312364</td>\n",
       "      <td>0.789536</td>\n",
       "    </tr>\n",
       "    <tr>\n",
       "      <th>std</th>\n",
       "      <td>1.520401</td>\n",
       "      <td>2.227852</td>\n",
       "      <td>1.312528</td>\n",
       "      <td>2.525705</td>\n",
       "      <td>3.055355</td>\n",
       "      <td>3.419787</td>\n",
       "      <td>1.230367</td>\n",
       "      <td>1.212675</td>\n",
       "    </tr>\n",
       "    <tr>\n",
       "      <th>min</th>\n",
       "      <td>-4.790000</td>\n",
       "      <td>-12.016125</td>\n",
       "      <td>-4.290000</td>\n",
       "      <td>-4.570000</td>\n",
       "      <td>-29.620000</td>\n",
       "      <td>-10.676181</td>\n",
       "      <td>-1.460000</td>\n",
       "      <td>-2.292098</td>\n",
       "    </tr>\n",
       "    <tr>\n",
       "      <th>25%</th>\n",
       "      <td>0.195000</td>\n",
       "      <td>-0.768170</td>\n",
       "      <td>0.370000</td>\n",
       "      <td>-0.570000</td>\n",
       "      <td>0.610000</td>\n",
       "      <td>-1.972984</td>\n",
       "      <td>0.466667</td>\n",
       "      <td>-0.045499</td>\n",
       "    </tr>\n",
       "    <tr>\n",
       "      <th>50%</th>\n",
       "      <td>1.200000</td>\n",
       "      <td>0.500000</td>\n",
       "      <td>1.350000</td>\n",
       "      <td>0.950000</td>\n",
       "      <td>1.830000</td>\n",
       "      <td>0.446890</td>\n",
       "      <td>1.303333</td>\n",
       "      <td>0.885317</td>\n",
       "    </tr>\n",
       "    <tr>\n",
       "      <th>75%</th>\n",
       "      <td>2.070000</td>\n",
       "      <td>1.790000</td>\n",
       "      <td>2.055000</td>\n",
       "      <td>2.160000</td>\n",
       "      <td>4.063571</td>\n",
       "      <td>1.787854</td>\n",
       "      <td>2.180000</td>\n",
       "      <td>1.703576</td>\n",
       "    </tr>\n",
       "    <tr>\n",
       "      <th>max</th>\n",
       "      <td>4.620000</td>\n",
       "      <td>6.300000</td>\n",
       "      <td>3.750000</td>\n",
       "      <td>10.137083</td>\n",
       "      <td>10.210000</td>\n",
       "      <td>5.580000</td>\n",
       "      <td>4.361667</td>\n",
       "      <td>3.045360</td>\n",
       "    </tr>\n",
       "  </tbody>\n",
       "</table>\n",
       "</div>"
      ],
      "text/plain": [
       "              DEU         ESP         FRA         GBR         IRL         ITA  \\\n",
       "count  571.000000  571.000000  571.000000  571.000000  571.000000  571.000000   \n",
       "mean     0.993152    0.470499    1.104098    1.068564    2.287395   -0.379483   \n",
       "std      1.520401    2.227852    1.312528    2.525705    3.055355    3.419787   \n",
       "min     -4.790000  -12.016125   -4.290000   -4.570000  -29.620000  -10.676181   \n",
       "25%      0.195000   -0.768170    0.370000   -0.570000    0.610000   -1.972984   \n",
       "50%      1.200000    0.500000    1.350000    0.950000    1.830000    0.446890   \n",
       "75%      2.070000    1.790000    2.055000    2.160000    4.063571    1.787854   \n",
       "max      4.620000    6.300000    3.750000   10.137083   10.210000    5.580000   \n",
       "\n",
       "              NLD          WA  \n",
       "count  571.000000  571.000000  \n",
       "mean     1.312364    0.789536  \n",
       "std      1.230367    1.212675  \n",
       "min     -1.460000   -2.292098  \n",
       "25%      0.466667   -0.045499  \n",
       "50%      1.303333    0.885317  \n",
       "75%      2.180000    1.703576  \n",
       "max      4.361667    3.045360  "
      ]
     },
     "execution_count": 8,
     "metadata": {},
     "output_type": "execute_result"
    }
   ],
   "source": [
    "spread.describe()"
   ]
  },
  {
   "cell_type": "code",
   "execution_count": 9,
   "metadata": {
    "scrolled": true
   },
   "outputs": [
    {
     "data": {
      "text/plain": [
       "DEU   1975-08-01\n",
       "ESP   2012-07-01\n",
       "FRA   1976-01-01\n",
       "GBR   1974-12-01\n",
       "IRL   2011-06-01\n",
       "ITA   2011-11-01\n",
       "NLD   1970-02-01\n",
       "WA    1975-11-01\n",
       "dtype: datetime64[ns]"
      ]
     },
     "execution_count": 9,
     "metadata": {},
     "output_type": "execute_result"
    }
   ],
   "source": [
    "spread.idxmax()"
   ]
  },
  {
   "cell_type": "code",
   "execution_count": 11,
   "metadata": {},
   "outputs": [
    {
     "data": {
      "text/html": [
       "<div>\n",
       "<style>\n",
       "    .dataframe thead tr:only-child th {\n",
       "        text-align: right;\n",
       "    }\n",
       "\n",
       "    .dataframe thead th {\n",
       "        text-align: left;\n",
       "    }\n",
       "\n",
       "    .dataframe tbody tr th {\n",
       "        vertical-align: top;\n",
       "    }\n",
       "</style>\n",
       "<table border=\"1\" class=\"dataframe\">\n",
       "  <thead>\n",
       "    <tr style=\"text-align: right;\">\n",
       "      <th></th>\n",
       "      <th>DEU</th>\n",
       "      <th>ESP</th>\n",
       "      <th>FRA</th>\n",
       "      <th>GBR</th>\n",
       "      <th>IRL</th>\n",
       "      <th>ITA</th>\n",
       "      <th>NLD</th>\n",
       "      <th>WA</th>\n",
       "    </tr>\n",
       "  </thead>\n",
       "  <tbody>\n",
       "    <tr>\n",
       "      <th>1970-01-01</th>\n",
       "      <td>-1.69</td>\n",
       "      <td>0.340000</td>\n",
       "      <td>-1.61</td>\n",
       "      <td>2.830000</td>\n",
       "      <td>4.025000</td>\n",
       "      <td>-0.490000</td>\n",
       "      <td>4.330000</td>\n",
       "      <td>-0.135695</td>\n",
       "    </tr>\n",
       "    <tr>\n",
       "      <th>1970-02-01</th>\n",
       "      <td>-1.71</td>\n",
       "      <td>0.315637</td>\n",
       "      <td>-1.02</td>\n",
       "      <td>2.617917</td>\n",
       "      <td>4.101583</td>\n",
       "      <td>-0.517211</td>\n",
       "      <td>4.361667</td>\n",
       "      <td>-0.058400</td>\n",
       "    </tr>\n",
       "    <tr>\n",
       "      <th>1970-03-01</th>\n",
       "      <td>-1.71</td>\n",
       "      <td>0.291274</td>\n",
       "      <td>-0.79</td>\n",
       "      <td>2.475833</td>\n",
       "      <td>4.178166</td>\n",
       "      <td>-0.544421</td>\n",
       "      <td>4.333333</td>\n",
       "      <td>-0.042632</td>\n",
       "    </tr>\n",
       "    <tr>\n",
       "      <th>1970-04-01</th>\n",
       "      <td>-1.76</td>\n",
       "      <td>0.266911</td>\n",
       "      <td>-0.32</td>\n",
       "      <td>2.483750</td>\n",
       "      <td>4.254748</td>\n",
       "      <td>-0.571632</td>\n",
       "      <td>4.315000</td>\n",
       "      <td>0.037857</td>\n",
       "    </tr>\n",
       "    <tr>\n",
       "      <th>1970-05-01</th>\n",
       "      <td>-1.53</td>\n",
       "      <td>0.242548</td>\n",
       "      <td>-0.40</td>\n",
       "      <td>2.731667</td>\n",
       "      <td>4.331331</td>\n",
       "      <td>-0.598843</td>\n",
       "      <td>4.356667</td>\n",
       "      <td>0.136605</td>\n",
       "    </tr>\n",
       "  </tbody>\n",
       "</table>\n",
       "</div>"
      ],
      "text/plain": [
       "             DEU       ESP   FRA       GBR       IRL       ITA       NLD  \\\n",
       "1970-01-01 -1.69  0.340000 -1.61  2.830000  4.025000 -0.490000  4.330000   \n",
       "1970-02-01 -1.71  0.315637 -1.02  2.617917  4.101583 -0.517211  4.361667   \n",
       "1970-03-01 -1.71  0.291274 -0.79  2.475833  4.178166 -0.544421  4.333333   \n",
       "1970-04-01 -1.76  0.266911 -0.32  2.483750  4.254748 -0.571632  4.315000   \n",
       "1970-05-01 -1.53  0.242548 -0.40  2.731667  4.331331 -0.598843  4.356667   \n",
       "\n",
       "                  WA  \n",
       "1970-01-01 -0.135695  \n",
       "1970-02-01 -0.058400  \n",
       "1970-03-01 -0.042632  \n",
       "1970-04-01  0.037857  \n",
       "1970-05-01  0.136605  "
      ]
     },
     "execution_count": 11,
     "metadata": {},
     "output_type": "execute_result"
    }
   ],
   "source": [
    "spread.head()"
   ]
  },
  {
   "cell_type": "code",
   "execution_count": 10,
   "metadata": {
    "collapsed": true
   },
   "outputs": [],
   "source": [
    "spread.to_excel(\"Spread.xlsx\")"
   ]
  }
 ],
 "metadata": {
  "kernelspec": {
   "display_name": "Python 3",
   "language": "python",
   "name": "python3"
  },
  "language_info": {
   "codemirror_mode": {
    "name": "ipython",
    "version": 3
   },
   "file_extension": ".py",
   "mimetype": "text/x-python",
   "name": "python",
   "nbconvert_exporter": "python",
   "pygments_lexer": "ipython3",
   "version": "3.6.3"
  }
 },
 "nbformat": 4,
 "nbformat_minor": 2
}
