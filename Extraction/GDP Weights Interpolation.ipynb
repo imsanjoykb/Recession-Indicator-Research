{
 "cells": [
  {
   "cell_type": "code",
   "execution_count": 2,
   "metadata": {
    "collapsed": true
   },
   "outputs": [],
   "source": [
    "import numpy as np\n",
    "import pandas as pd\n",
    "import seaborn as sns\n",
    "sns.set_style('whitegrid')\n",
    "import matplotlib.pyplot as plt\n",
    "%matplotlib inline"
   ]
  },
  {
   "cell_type": "code",
   "execution_count": 35,
   "metadata": {
    "collapsed": true
   },
   "outputs": [],
   "source": [
    "df = pd.read_excel(\"GDP_Weights.csv.xlsx\",sheetname=\"GDP_Weights\", index_col=0)\n",
    "index = pd.date_range(start=\"1969-1-1\", freq=\"A\", periods=49)\n",
    "df.set_index(index, inplace=True)"
   ]
  },
  {
   "cell_type": "code",
   "execution_count": 36,
   "metadata": {},
   "outputs": [
    {
     "data": {
      "text/html": [
       "<div>\n",
       "<style>\n",
       "    .dataframe thead tr:only-child th {\n",
       "        text-align: right;\n",
       "    }\n",
       "\n",
       "    .dataframe thead th {\n",
       "        text-align: left;\n",
       "    }\n",
       "\n",
       "    .dataframe tbody tr th {\n",
       "        vertical-align: top;\n",
       "    }\n",
       "</style>\n",
       "<table border=\"1\" class=\"dataframe\">\n",
       "  <thead>\n",
       "    <tr style=\"text-align: right;\">\n",
       "      <th></th>\n",
       "      <th>DEU</th>\n",
       "      <th>ESP</th>\n",
       "      <th>FRA</th>\n",
       "      <th>GBR</th>\n",
       "      <th>IRL</th>\n",
       "      <th>ITA</th>\n",
       "      <th>NLD</th>\n",
       "    </tr>\n",
       "  </thead>\n",
       "  <tbody>\n",
       "    <tr>\n",
       "      <th>1969-12-31</th>\n",
       "      <td>215.0</td>\n",
       "      <td>40.9</td>\n",
       "      <td>148.9</td>\n",
       "      <td>130.7</td>\n",
       "      <td>4.4</td>\n",
       "      <td>113.0</td>\n",
       "      <td>37.7</td>\n",
       "    </tr>\n",
       "    <tr>\n",
       "      <th>1970-12-31</th>\n",
       "      <td>249.0</td>\n",
       "      <td>46.5</td>\n",
       "      <td>166.6</td>\n",
       "      <td>148.1</td>\n",
       "      <td>5.1</td>\n",
       "      <td>124.3</td>\n",
       "      <td>44.0</td>\n",
       "    </tr>\n",
       "    <tr>\n",
       "      <th>1971-12-31</th>\n",
       "      <td>298.7</td>\n",
       "      <td>59.0</td>\n",
       "      <td>204.3</td>\n",
       "      <td>170.0</td>\n",
       "      <td>6.3</td>\n",
       "      <td>144.8</td>\n",
       "      <td>54.0</td>\n",
       "    </tr>\n",
       "    <tr>\n",
       "      <th>1972-12-31</th>\n",
       "      <td>396.9</td>\n",
       "      <td>78.4</td>\n",
       "      <td>265.4</td>\n",
       "      <td>192.6</td>\n",
       "      <td>7.5</td>\n",
       "      <td>174.9</td>\n",
       "      <td>71.3</td>\n",
       "    </tr>\n",
       "    <tr>\n",
       "      <th>1973-12-31</th>\n",
       "      <td>443.6</td>\n",
       "      <td>97.0</td>\n",
       "      <td>286.5</td>\n",
       "      <td>206.2</td>\n",
       "      <td>7.9</td>\n",
       "      <td>198.9</td>\n",
       "      <td>84.4</td>\n",
       "    </tr>\n",
       "  </tbody>\n",
       "</table>\n",
       "</div>"
      ],
      "text/plain": [
       "              DEU   ESP    FRA    GBR  IRL    ITA   NLD\n",
       "1969-12-31  215.0  40.9  148.9  130.7  4.4  113.0  37.7\n",
       "1970-12-31  249.0  46.5  166.6  148.1  5.1  124.3  44.0\n",
       "1971-12-31  298.7  59.0  204.3  170.0  6.3  144.8  54.0\n",
       "1972-12-31  396.9  78.4  265.4  192.6  7.5  174.9  71.3\n",
       "1973-12-31  443.6  97.0  286.5  206.2  7.9  198.9  84.4"
      ]
     },
     "execution_count": 36,
     "metadata": {},
     "output_type": "execute_result"
    }
   ],
   "source": [
    "df.head()"
   ]
  },
  {
   "cell_type": "code",
   "execution_count": 37,
   "metadata": {
    "collapsed": true
   },
   "outputs": [],
   "source": [
    "df_upsmpl = df.resample(\"M\").mean()"
   ]
  },
  {
   "cell_type": "code",
   "execution_count": 41,
   "metadata": {
    "collapsed": true
   },
   "outputs": [],
   "source": [
    "df_upsmpl.head()\n",
    "df_upsmpl.interpolate(inplace=True)"
   ]
  },
  {
   "cell_type": "code",
   "execution_count": 42,
   "metadata": {
    "collapsed": true
   },
   "outputs": [],
   "source": [
    "df_upsmpl.to_excel(\"GDP_Weights_Monthly.xlsx\")"
   ]
  }
 ],
 "metadata": {
  "kernelspec": {
   "display_name": "Python 3",
   "language": "python",
   "name": "python3"
  },
  "language_info": {
   "codemirror_mode": {
    "name": "ipython",
    "version": 3
   },
   "file_extension": ".py",
   "mimetype": "text/x-python",
   "name": "python",
   "nbconvert_exporter": "python",
   "pygments_lexer": "ipython3",
   "version": "3.6.3"
  }
 },
 "nbformat": 4,
 "nbformat_minor": 2
}
