{
 "cells": [
  {
   "cell_type": "code",
   "execution_count": 1,
   "metadata": {
    "collapsed": true
   },
   "outputs": [],
   "source": [
    "import numpy as np\n",
    "import pandas as pd\n",
    "import seaborn as sns\n",
    "sns.set_style('whitegrid')\n",
    "import matplotlib.pyplot as plt\n",
    "%matplotlib inline"
   ]
  },
  {
   "cell_type": "code",
   "execution_count": 2,
   "metadata": {
    "collapsed": true
   },
   "outputs": [],
   "source": [
    "from pylab import rcParams\n",
    "rcParams['figure.figsize'] = 10, 5\n",
    "plt.style.use('fivethirtyeight')"
   ]
  },
  {
   "cell_type": "code",
   "execution_count": 3,
   "metadata": {
    "collapsed": true
   },
   "outputs": [],
   "source": [
    "df = pd.read_excel(\"Metric Tables.xlsx\")"
   ]
  },
  {
   "cell_type": "code",
   "execution_count": 4,
   "metadata": {},
   "outputs": [
    {
     "data": {
      "text/html": [
       "<div>\n",
       "<style>\n",
       "    .dataframe thead tr:only-child th {\n",
       "        text-align: right;\n",
       "    }\n",
       "\n",
       "    .dataframe thead th {\n",
       "        text-align: left;\n",
       "    }\n",
       "\n",
       "    .dataframe tbody tr th {\n",
       "        vertical-align: top;\n",
       "    }\n",
       "</style>\n",
       "<table border=\"1\" class=\"dataframe\">\n",
       "  <thead>\n",
       "    <tr style=\"text-align: right;\">\n",
       "      <th></th>\n",
       "      <th>Predictor: Spread 10Y-3M</th>\n",
       "      <th>Precision</th>\n",
       "      <th>Recall</th>\n",
       "      <th>F1-score</th>\n",
       "      <th>N-samples</th>\n",
       "      <th>OECD recessio-ns</th>\n",
       "      <th>gamma</th>\n",
       "    </tr>\n",
       "  </thead>\n",
       "  <tbody>\n",
       "    <tr>\n",
       "      <th>0</th>\n",
       "      <td>WAV</td>\n",
       "      <td>0.86</td>\n",
       "      <td>0.71</td>\n",
       "      <td>0.72</td>\n",
       "      <td>139</td>\n",
       "      <td>1</td>\n",
       "      <td>0.0100</td>\n",
       "    </tr>\n",
       "    <tr>\n",
       "      <th>1</th>\n",
       "      <td>Germany</td>\n",
       "      <td>0.82</td>\n",
       "      <td>0.78</td>\n",
       "      <td>0.79</td>\n",
       "      <td>139</td>\n",
       "      <td>1</td>\n",
       "      <td>0.0100</td>\n",
       "    </tr>\n",
       "    <tr>\n",
       "      <th>2</th>\n",
       "      <td>Germany_Adj</td>\n",
       "      <td>0.85</td>\n",
       "      <td>0.85</td>\n",
       "      <td>0.85</td>\n",
       "      <td>139</td>\n",
       "      <td>9</td>\n",
       "      <td>0.0100</td>\n",
       "    </tr>\n",
       "    <tr>\n",
       "      <th>3</th>\n",
       "      <td>DEU, FRA</td>\n",
       "      <td>0.86</td>\n",
       "      <td>0.75</td>\n",
       "      <td>0.76</td>\n",
       "      <td>139</td>\n",
       "      <td>1</td>\n",
       "      <td>0.0100</td>\n",
       "    </tr>\n",
       "    <tr>\n",
       "      <th>4</th>\n",
       "      <td>DEU, FRA, ITA</td>\n",
       "      <td>0.71</td>\n",
       "      <td>0.71</td>\n",
       "      <td>0.71</td>\n",
       "      <td>139</td>\n",
       "      <td>1</td>\n",
       "      <td>0.0100</td>\n",
       "    </tr>\n",
       "    <tr>\n",
       "      <th>5</th>\n",
       "      <td>DEU, GBR</td>\n",
       "      <td>0.81</td>\n",
       "      <td>0.74</td>\n",
       "      <td>0.75</td>\n",
       "      <td>139</td>\n",
       "      <td>100</td>\n",
       "      <td>0.0001</td>\n",
       "    </tr>\n",
       "  </tbody>\n",
       "</table>\n",
       "</div>"
      ],
      "text/plain": [
       "  Predictor: Spread 10Y-3M  Precision  Recall  F1-score  N-samples  \\\n",
       "0                      WAV       0.86    0.71      0.72        139   \n",
       "1                  Germany       0.82    0.78      0.79        139   \n",
       "2              Germany_Adj       0.85    0.85      0.85        139   \n",
       "3                 DEU, FRA       0.86    0.75      0.76        139   \n",
       "4            DEU, FRA, ITA       0.71    0.71      0.71        139   \n",
       "5                 DEU, GBR       0.81    0.74      0.75        139   \n",
       "\n",
       "   OECD recessio-ns   gamma  \n",
       "0                 1  0.0100  \n",
       "1                 1  0.0100  \n",
       "2                 9  0.0100  \n",
       "3                 1  0.0100  \n",
       "4                 1  0.0100  \n",
       "5               100  0.0001  "
      ]
     },
     "execution_count": 4,
     "metadata": {},
     "output_type": "execute_result"
    }
   ],
   "source": [
    "df"
   ]
  },
  {
   "cell_type": "code",
   "execution_count": 8,
   "metadata": {
    "collapsed": true
   },
   "outputs": [],
   "source": [
    "df1 = pd.read_excel(\"../Develop/Spread.xlsx\")"
   ]
  },
  {
   "cell_type": "code",
   "execution_count": 9,
   "metadata": {
    "collapsed": true
   },
   "outputs": [],
   "source": [
    "df1_descriptive = df1.describe()\n",
    "df1_descriptive.to_excel(\"Spread_Descriptive.xlsx\")"
   ]
  },
  {
   "cell_type": "code",
   "execution_count": 10,
   "metadata": {},
   "outputs": [
    {
     "data": {
      "text/html": [
       "<div>\n",
       "<style>\n",
       "    .dataframe thead tr:only-child th {\n",
       "        text-align: right;\n",
       "    }\n",
       "\n",
       "    .dataframe thead th {\n",
       "        text-align: left;\n",
       "    }\n",
       "\n",
       "    .dataframe tbody tr th {\n",
       "        vertical-align: top;\n",
       "    }\n",
       "</style>\n",
       "<table border=\"1\" class=\"dataframe\">\n",
       "  <thead>\n",
       "    <tr style=\"text-align: right;\">\n",
       "      <th></th>\n",
       "      <th>S_DEU</th>\n",
       "      <th>S_ESP</th>\n",
       "      <th>S_FRA</th>\n",
       "      <th>S_GBR</th>\n",
       "      <th>S_IRL</th>\n",
       "      <th>S_ITA</th>\n",
       "      <th>S_NLD</th>\n",
       "      <th>S_WAV</th>\n",
       "    </tr>\n",
       "  </thead>\n",
       "  <tbody>\n",
       "    <tr>\n",
       "      <th>count</th>\n",
       "      <td>571.000000</td>\n",
       "      <td>571.000000</td>\n",
       "      <td>571.000000</td>\n",
       "      <td>571.000000</td>\n",
       "      <td>571.000000</td>\n",
       "      <td>571.000000</td>\n",
       "      <td>571.000000</td>\n",
       "      <td>571.000000</td>\n",
       "    </tr>\n",
       "    <tr>\n",
       "      <th>mean</th>\n",
       "      <td>0.993152</td>\n",
       "      <td>0.470499</td>\n",
       "      <td>1.104098</td>\n",
       "      <td>1.068564</td>\n",
       "      <td>2.287395</td>\n",
       "      <td>-0.379483</td>\n",
       "      <td>1.312364</td>\n",
       "      <td>0.789536</td>\n",
       "    </tr>\n",
       "    <tr>\n",
       "      <th>std</th>\n",
       "      <td>1.520401</td>\n",
       "      <td>2.227852</td>\n",
       "      <td>1.312528</td>\n",
       "      <td>2.525705</td>\n",
       "      <td>3.055355</td>\n",
       "      <td>3.419787</td>\n",
       "      <td>1.230367</td>\n",
       "      <td>1.212675</td>\n",
       "    </tr>\n",
       "    <tr>\n",
       "      <th>min</th>\n",
       "      <td>-4.790000</td>\n",
       "      <td>-12.016125</td>\n",
       "      <td>-4.290000</td>\n",
       "      <td>-4.570000</td>\n",
       "      <td>-29.620000</td>\n",
       "      <td>-10.676181</td>\n",
       "      <td>-1.460000</td>\n",
       "      <td>-2.292098</td>\n",
       "    </tr>\n",
       "    <tr>\n",
       "      <th>25%</th>\n",
       "      <td>0.195000</td>\n",
       "      <td>-0.768170</td>\n",
       "      <td>0.370000</td>\n",
       "      <td>-0.570000</td>\n",
       "      <td>0.610000</td>\n",
       "      <td>-1.972984</td>\n",
       "      <td>0.466667</td>\n",
       "      <td>-0.045499</td>\n",
       "    </tr>\n",
       "    <tr>\n",
       "      <th>50%</th>\n",
       "      <td>1.200000</td>\n",
       "      <td>0.500000</td>\n",
       "      <td>1.350000</td>\n",
       "      <td>0.950000</td>\n",
       "      <td>1.830000</td>\n",
       "      <td>0.446890</td>\n",
       "      <td>1.303333</td>\n",
       "      <td>0.885317</td>\n",
       "    </tr>\n",
       "    <tr>\n",
       "      <th>75%</th>\n",
       "      <td>2.070000</td>\n",
       "      <td>1.790000</td>\n",
       "      <td>2.055000</td>\n",
       "      <td>2.160000</td>\n",
       "      <td>4.063571</td>\n",
       "      <td>1.787854</td>\n",
       "      <td>2.180000</td>\n",
       "      <td>1.703576</td>\n",
       "    </tr>\n",
       "    <tr>\n",
       "      <th>max</th>\n",
       "      <td>4.620000</td>\n",
       "      <td>6.300000</td>\n",
       "      <td>3.750000</td>\n",
       "      <td>10.137083</td>\n",
       "      <td>10.210000</td>\n",
       "      <td>5.580000</td>\n",
       "      <td>4.361667</td>\n",
       "      <td>3.045360</td>\n",
       "    </tr>\n",
       "  </tbody>\n",
       "</table>\n",
       "</div>"
      ],
      "text/plain": [
       "            S_DEU       S_ESP       S_FRA       S_GBR       S_IRL       S_ITA  \\\n",
       "count  571.000000  571.000000  571.000000  571.000000  571.000000  571.000000   \n",
       "mean     0.993152    0.470499    1.104098    1.068564    2.287395   -0.379483   \n",
       "std      1.520401    2.227852    1.312528    2.525705    3.055355    3.419787   \n",
       "min     -4.790000  -12.016125   -4.290000   -4.570000  -29.620000  -10.676181   \n",
       "25%      0.195000   -0.768170    0.370000   -0.570000    0.610000   -1.972984   \n",
       "50%      1.200000    0.500000    1.350000    0.950000    1.830000    0.446890   \n",
       "75%      2.070000    1.790000    2.055000    2.160000    4.063571    1.787854   \n",
       "max      4.620000    6.300000    3.750000   10.137083   10.210000    5.580000   \n",
       "\n",
       "            S_NLD       S_WAV  \n",
       "count  571.000000  571.000000  \n",
       "mean     1.312364    0.789536  \n",
       "std      1.230367    1.212675  \n",
       "min     -1.460000   -2.292098  \n",
       "25%      0.466667   -0.045499  \n",
       "50%      1.303333    0.885317  \n",
       "75%      2.180000    1.703576  \n",
       "max      4.361667    3.045360  "
      ]
     },
     "execution_count": 10,
     "metadata": {},
     "output_type": "execute_result"
    }
   ],
   "source": [
    "df1_descriptive"
   ]
  },
  {
   "cell_type": "code",
   "execution_count": 11,
   "metadata": {
    "collapsed": true
   },
   "outputs": [],
   "source": [
    "df2 = pd.read_excel(\"../Develop/GDP_Growth_Monthly.xlsx\", index_col=0)"
   ]
  },
  {
   "cell_type": "code",
   "execution_count": 12,
   "metadata": {
    "collapsed": true
   },
   "outputs": [],
   "source": [
    "df2_descript = df2.loc[:, :\"G_WAV\"].describe()"
   ]
  },
  {
   "cell_type": "code",
   "execution_count": 13,
   "metadata": {
    "collapsed": true
   },
   "outputs": [],
   "source": [
    "df2_descript.to_excel(\"Growth_Descriptive.xlsx\")"
   ]
  },
  {
   "cell_type": "code",
   "execution_count": 15,
   "metadata": {},
   "outputs": [
    {
     "data": {
      "image/png": "[encoded data removed]",
      "text/plain": [
       "<matplotlib.figure.Figure at 0x21030607cc0>"
      ]
     },
     "metadata": {},
     "output_type": "display_data"
    }
   ],
   "source": [
    "df2[\"G_WAV\"].plot()\n",
    "plt.legend()\n",
    "plt.title(\"Growth WAV\")\n",
    "plt.savefig(\"../Graphs/Growth_WAV.png\", dpi=100)"
   ]
  }
 ],
 "metadata": {
  "kernelspec": {
   "display_name": "Python 3",
   "language": "python",
   "name": "python3"
  },
  "language_info": {
   "codemirror_mode": {
    "name": "ipython",
    "version": 3
   },
   "file_extension": ".py",
   "mimetype": "text/x-python",
   "name": "python",
   "nbconvert_exporter": "python",
   "pygments_lexer": "ipython3",
   "version": "3.6.3"
  }
 },
 "nbformat": 4,
 "nbformat_minor": 2
}
